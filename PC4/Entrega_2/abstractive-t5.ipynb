{
 "cells": [
  {
   "metadata": {
    "ExecuteTime": {
     "end_time": "2024-12-07T13:44:38.759618Z",
     "start_time": "2024-12-07T13:44:38.744792Z"
    }
   },
   "cell_type": "code",
   "source": [
    "from transformers import T5Tokenizer, T5ForConditionalGeneration, Seq2SeqTrainer, Seq2SeqTrainingArguments\n",
    "from datasets import load_dataset\n",
    "from evaluate import load as load_evaluate\n"
   ],
   "id": "42319c9e2d232031",
   "outputs": [],
   "execution_count": 30
  },
  {
   "metadata": {
    "ExecuteTime": {
     "end_time": "2024-12-07T13:44:38.775727Z",
     "start_time": "2024-12-07T13:44:38.760619Z"
    }
   },
   "cell_type": "code",
   "source": [
    "\n",
    "class AbstractSummarizerTrainer:\n",
    "    \"\"\"\n",
    "    Entrena y ajusta finamente un modelo T5 para resumen abstractivo utilizando CNN/DailyMail.\n",
    "    Incluye técnicas para controlar la longitud del resumen y mantener coherencia.\n",
    "    \"\"\"\n",
    "\n",
    "    def __init__(self, model_name: str = \"t5-small\", max_input_length: int = 512, max_output_length: int = 50):\n",
    "        \"\"\"\n",
    "        Inicializa el tokenizador y modelo preentrenado.\n",
    "        :param model_name: Nombre del modelo T5 en Hugging Face (e.g., 't5-small').\n",
    "        :param max_input_length: Longitud máxima de los textos de entrada.\n",
    "        :param max_output_length: Longitud máxima de los textos de salida.\n",
    "        \"\"\"\n",
    "        self.tokenizer = T5Tokenizer.from_pretrained(model_name, legacy=False)\n",
    "        self.model = T5ForConditionalGeneration.from_pretrained(model_name, ignore_mismatched_sizes=True)\n",
    "        self.max_input_length = max_input_length\n",
    "        self.max_output_length = max_output_length\n",
    "\n",
    "    def preprocess_function(self, examples):\n",
    "        \"\"\"\n",
    "        Preprocesa los datos para que sean compatibles con el modelo T5.\n",
    "        :param examples: Ejemplos del dataset.\n",
    "        :return: Diccionario con textos tokenizados.\n",
    "        \"\"\"\n",
    "        inputs = [\"summarize: \" + doc for doc in examples[\"article\"]]\n",
    "        model_inputs = self.tokenizer(\n",
    "            inputs, max_length=self.max_input_length, truncation=True, padding=\"max_length\"\n",
    "        )\n",
    "        labels = self.tokenizer(\n",
    "            text_target=examples[\"highlights\"], max_length=self.max_output_length, truncation=True, padding=\"max_length\"\n",
    "        )\n",
    "        model_inputs[\"labels\"] = labels[\"input_ids\"]\n",
    "        return model_inputs\n",
    "\n",
    "    def train(self, train_dataset, eval_dataset, output_dir: str = \"models/t5-cnn\", epochs: int = 3, batch_size: int = 8):\n",
    "        \"\"\"\n",
    "        Ajusta el modelo utilizando el dataset de entrenamiento y evaluación.\n",
    "        :param train_dataset: Dataset de entrenamiento.\n",
    "        :param eval_dataset: Dataset de evaluación.\n",
    "        :param output_dir: Directorio donde guardar el modelo ajustado.\n",
    "        :param epochs: Número de épocas de entrenamiento.\n",
    "        :param batch_size: Tamaño del batch.\n",
    "        \"\"\"\n",
    "        training_args = Seq2SeqTrainingArguments(\n",
    "            output_dir=output_dir,\n",
    "            eval_strategy=\"epoch\",\n",
    "            learning_rate=5e-5,\n",
    "            per_device_train_batch_size=batch_size,\n",
    "            per_device_eval_batch_size=batch_size,\n",
    "            num_train_epochs=epochs,\n",
    "            weight_decay=0.01,\n",
    "            predict_with_generate=True,\n",
    "            generation_max_length=self.max_output_length,\n",
    "            save_strategy=\"no\",\n",
    "            logging_steps=50,\n",
    "        )\n",
    "\n",
    "        trainer = Seq2SeqTrainer(\n",
    "            model=self.model,\n",
    "            args=training_args,\n",
    "            train_dataset=train_dataset,\n",
    "            eval_dataset=eval_dataset,\n",
    "            tokenizer=self.tokenizer,\n",
    "        )\n",
    "\n",
    "        trainer.train()\n",
    "        self.save_model(output_dir)\n",
    "\n",
    "    def save_model(self, output_dir: str):\n",
    "        \"\"\"\n",
    "        Guarda el modelo ajustado en el directorio especificado.\n",
    "        :param output_dir: Ruta para guardar el modelo.\n",
    "        \"\"\"\n",
    "        self.model.save_pretrained(output_dir)\n",
    "        self.tokenizer.save_pretrained(output_dir)\n",
    "\n",
    "    def evaluate(self, eval_dataset, min_length: int = 30):\n",
    "        \"\"\"\n",
    "        Evalúa el modelo en el dataset de prueba, controlando la longitud mínima.\n",
    "        :param eval_dataset: Dataset de prueba.\n",
    "        :param min_length: Longitud mínima del resumen.\n",
    "        :return: Métricas de evaluación (ROUGE).\n",
    "        \"\"\"\n",
    "        metric = load_evaluate(\"rouge\")\n",
    "\n",
    "        def generate_summary(batch):\n",
    "            \"\"\"\n",
    "            Genera resúmenes con restricciones de longitud mínima.\n",
    "            :param batch: Batch del dataset.\n",
    "            :return: Resúmenes generados.\n",
    "            \"\"\"\n",
    "            inputs = self.tokenizer(\n",
    "                batch[\"article\"], max_length=self.max_input_length, truncation=True, padding=\"max_length\",\n",
    "                return_tensors=\"pt\"\n",
    "            )\n",
    "            inputs = {key: value.to(self.model.device) for key, value in inputs.items()}\n",
    "            summaries = self.model.generate(\n",
    "                inputs[\"input_ids\"], max_length=self.max_output_length, min_length=min_length, num_beams=4\n",
    "            )\n",
    "            return self.tokenizer.batch_decode(summaries, skip_special_tokens=True)\n",
    "\n",
    "        # Generar resúmenes para todo el conjunto de evaluación\n",
    "        predictions = [generate_summary({\"article\": [example[\"article\"]]})[0] for example in eval_dataset]\n",
    "        references = [example[\"highlights\"] for example in eval_dataset]\n",
    "\n",
    "        # Calcular métricas ROUGE\n",
    "        results = metric.compute(predictions=predictions, references=references)\n",
    "        return results\n",
    "\n",
    "    def infer(self, text: str, min_length: int = 30) -> str:\n",
    "        \"\"\"\n",
    "        Genera un resumen para un texto de entrada.\n",
    "        :param text: Texto de entrada.\n",
    "        :param min_length: Longitud mínima del resumen.\n",
    "        :return: Resumen generado.\n",
    "        \"\"\"\n",
    "        input_text = \"summarize: \" + text\n",
    "        inputs = self.tokenizer(input_text, max_length=self.max_input_length, truncation=True, return_tensors=\"pt\")\n",
    "        inputs = {key: value.to(self.model.device) for key, value in inputs.items()}\n",
    "        summary_ids = self.model.generate(\n",
    "            inputs[\"input_ids\"], max_length=self.max_output_length, min_length=min_length, num_beams=4\n",
    "        )\n",
    "        return self.tokenizer.decode(summary_ids[0], skip_special_tokens=True)\n"
   ],
   "id": "81bb1ce6603e3839",
   "outputs": [],
   "execution_count": 31
  },
  {
   "metadata": {
    "ExecuteTime": {
     "end_time": "2024-12-07T13:44:44.710160Z",
     "start_time": "2024-12-07T13:44:38.776727Z"
    }
   },
   "cell_type": "code",
   "source": [
    "# Cargar el dataset CNN/DailyMail y usar un subconjunto para optimizar tiempo\n",
    "dataset = load_dataset(\"cnn_dailymail\", \"3.0.0\")\n",
    "train_dataset = dataset[\"train\"].shuffle(seed=42).select(range(1000))\n",
    "eval_dataset = dataset[\"validation\"].shuffle(seed=42).select(range(200))\n",
    "test_dataset = dataset[\"test\"].shuffle(seed=42).select(range(200))\n"
   ],
   "id": "4952a742f585e149",
   "outputs": [],
   "execution_count": 32
  },
  {
   "metadata": {
    "ExecuteTime": {
     "end_time": "2024-12-07T13:44:50.112765Z",
     "start_time": "2024-12-07T13:44:44.712164Z"
    }
   },
   "cell_type": "code",
   "source": [
    "# Instanciar el entrenador y preprocesar los datasets\n",
    "trainer = AbstractSummarizerTrainer(model_name=\"t5-small\")\n",
    "train_dataset = train_dataset.map(trainer.preprocess_function, batched=True)\n",
    "eval_dataset = eval_dataset.map(trainer.preprocess_function, batched=True)\n",
    "test_dataset = test_dataset.map(trainer.preprocess_function, batched=True)\n"
   ],
   "id": "82fa5b8f81cc7134",
   "outputs": [
    {
     "data": {
      "text/plain": [
       "Map:   0%|          | 0/1000 [00:00<?, ? examples/s]"
      ],
      "application/vnd.jupyter.widget-view+json": {
       "version_major": 2,
       "version_minor": 0,
       "model_id": "74bb1bbd77734e66860df125ebf623d9"
      }
     },
     "metadata": {},
     "output_type": "display_data"
    },
    {
     "data": {
      "text/plain": [
       "Map:   0%|          | 0/200 [00:00<?, ? examples/s]"
      ],
      "application/vnd.jupyter.widget-view+json": {
       "version_major": 2,
       "version_minor": 0,
       "model_id": "7b3c2e4f519a43e1b3e2f459153aad86"
      }
     },
     "metadata": {},
     "output_type": "display_data"
    },
    {
     "data": {
      "text/plain": [
       "Map:   0%|          | 0/200 [00:00<?, ? examples/s]"
      ],
      "application/vnd.jupyter.widget-view+json": {
       "version_major": 2,
       "version_minor": 0,
       "model_id": "c5352c69b1064e0ab4391b4d0492a680"
      }
     },
     "metadata": {},
     "output_type": "display_data"
    }
   ],
   "execution_count": 33
  },
  {
   "metadata": {
    "ExecuteTime": {
     "end_time": "2024-12-07T13:50:01.318725Z",
     "start_time": "2024-12-07T13:44:50.113766Z"
    }
   },
   "cell_type": "code",
   "source": [
    "# Entrenar y guardar el modelo ajustado\n",
    "trainer.train(train_dataset, eval_dataset, output_dir=\"models\", epochs=10, batch_size=8)\n"
   ],
   "id": "a87ff300f5118493",
   "outputs": [
    {
     "data": {
      "text/plain": [
       "<IPython.core.display.HTML object>"
      ],
      "text/html": [
       "\n",
       "    <div>\n",
       "      \n",
       "      <progress value='1250' max='1250' style='width:300px; height:20px; vertical-align: middle;'></progress>\n",
       "      [1250/1250 05:10, Epoch 10/10]\n",
       "    </div>\n",
       "    <table border=\"1\" class=\"dataframe\">\n",
       "  <thead>\n",
       " <tr style=\"text-align: left;\">\n",
       "      <th>Epoch</th>\n",
       "      <th>Training Loss</th>\n",
       "      <th>Validation Loss</th>\n",
       "    </tr>\n",
       "  </thead>\n",
       "  <tbody>\n",
       "    <tr>\n",
       "      <td>1</td>\n",
       "      <td>2.265800</td>\n",
       "      <td>1.929556</td>\n",
       "    </tr>\n",
       "    <tr>\n",
       "      <td>2</td>\n",
       "      <td>2.047600</td>\n",
       "      <td>1.879679</td>\n",
       "    </tr>\n",
       "    <tr>\n",
       "      <td>3</td>\n",
       "      <td>1.968000</td>\n",
       "      <td>1.855671</td>\n",
       "    </tr>\n",
       "    <tr>\n",
       "      <td>4</td>\n",
       "      <td>1.957300</td>\n",
       "      <td>1.841938</td>\n",
       "    </tr>\n",
       "    <tr>\n",
       "      <td>5</td>\n",
       "      <td>1.846400</td>\n",
       "      <td>1.837652</td>\n",
       "    </tr>\n",
       "    <tr>\n",
       "      <td>6</td>\n",
       "      <td>1.853000</td>\n",
       "      <td>1.830479</td>\n",
       "    </tr>\n",
       "    <tr>\n",
       "      <td>7</td>\n",
       "      <td>1.826600</td>\n",
       "      <td>1.832381</td>\n",
       "    </tr>\n",
       "    <tr>\n",
       "      <td>8</td>\n",
       "      <td>1.822800</td>\n",
       "      <td>1.829590</td>\n",
       "    </tr>\n",
       "    <tr>\n",
       "      <td>9</td>\n",
       "      <td>1.805500</td>\n",
       "      <td>1.828883</td>\n",
       "    </tr>\n",
       "    <tr>\n",
       "      <td>10</td>\n",
       "      <td>1.793000</td>\n",
       "      <td>1.829309</td>\n",
       "    </tr>\n",
       "  </tbody>\n",
       "</table><p>"
      ]
     },
     "metadata": {},
     "output_type": "display_data"
    }
   ],
   "execution_count": 34
  },
  {
   "metadata": {
    "ExecuteTime": {
     "end_time": "2024-12-07T14:14:00.918271Z",
     "start_time": "2024-12-07T13:50:01.319728Z"
    }
   },
   "cell_type": "code",
   "source": [
    "# Evaluar el modelo en el conjunto de prueba\n",
    "metrics = trainer.evaluate(eval_dataset=test_dataset)\n",
    "print(\"Métricas ROUGE en el conjunto de prueba:\", metrics)\n"
   ],
   "id": "6bbbf17cec6e0be7",
   "outputs": [
    {
     "name": "stdout",
     "output_type": "stream",
     "text": [
      "Métricas ROUGE en el conjunto de prueba: {'rouge1': 0.3403463037773344, 'rouge2': 0.1379420423174355, 'rougeL': 0.23670830358883072, 'rougeLsum': 0.29149551729812473}\n"
     ]
    }
   ],
   "execution_count": 35
  },
  {
   "metadata": {
    "ExecuteTime": {
     "end_time": "2024-12-07T14:14:00.934359Z",
     "start_time": "2024-12-07T14:14:00.921271Z"
    }
   },
   "cell_type": "code",
   "source": "metrics.items()",
   "id": "7fbc9464cede512d",
   "outputs": [
    {
     "data": {
      "text/plain": [
       "dict_items([('rouge1', 0.3403463037773344), ('rouge2', 0.1379420423174355), ('rougeL', 0.23670830358883072), ('rougeLsum', 0.29149551729812473)])"
      ]
     },
     "execution_count": 36,
     "metadata": {},
     "output_type": "execute_result"
    }
   ],
   "execution_count": 36
  },
  {
   "metadata": {
    "ExecuteTime": {
     "end_time": "2024-12-07T14:14:00.949809Z",
     "start_time": "2024-12-07T14:14:00.936297Z"
    }
   },
   "cell_type": "code",
   "source": [
    "## 4. Pruebas de Inferencia\n",
    "example_text = (\"\"\"\n",
    "    Deputy police commissioner Nick Kaldas is giving evidence at an inquiry . Kaldas, 57, is a counter terrorism expert who has trained Iraqi police . He arrived in Australia aged 12 and fluent in English, French and Arabic . The inquiry is into a illegal police bugging operation of 114 people in 2000 . Kaldas is the highest ranking officer secretly bugged by his rival Kath Burn . He has 'explosive' evidence about bugging which has 'denigrated' his career . He has suffered reprisals for speaking out about the bugging scandal . The bugging operation threatens to blow apart NSW police hierarchy . He said independent inquiry into bugging scandal has left him fearful . Claimed Operation Prospect had sided with the officers being complained about and targeted him and other victims .\n",
    "    \"\"\"\n",
    ")\n"
   ],
   "id": "f0cbc134bbd505fd",
   "outputs": [],
   "execution_count": 37
  },
  {
   "metadata": {
    "ExecuteTime": {
     "end_time": "2024-12-07T14:14:10.097078Z",
     "start_time": "2024-12-07T14:14:00.950811Z"
    }
   },
   "cell_type": "code",
   "source": [
    "generated_summary = trainer.infer(example_text)\n",
    "print(\"\\nTexto Original:\\n\", example_text)\n",
    "print(\"\\nResumen Generado:\\n\", generated_summary)\n"
   ],
   "id": "6eb41925b7a469c8",
   "outputs": [
    {
     "name": "stdout",
     "output_type": "stream",
     "text": [
      "\n",
      "Texto Original:\n",
      " \n",
      "    Deputy police commissioner Nick Kaldas is giving evidence at an inquiry . Kaldas, 57, is a counter terrorism expert who has trained Iraqi police . He arrived in Australia aged 12 and fluent in English, French and Arabic . The inquiry is into a illegal police bugging operation of 114 people in 2000 . Kaldas is the highest ranking officer secretly bugged by his rival Kath Burn . He has 'explosive' evidence about bugging which has 'denigrated' his career . He has suffered reprisals for speaking out about the bugging scandal . The bugging operation threatens to blow apart NSW police hierarchy . He said independent inquiry into bugging scandal has left him fearful . Claimed Operation Prospect had sided with the officers being complained about and targeted him and other victims .\n",
      "    \n",
      "\n",
      "Resumen Generado:\n",
      " Deputy police commissioner Nick Kaldas is giving evidence at an inquiry. Kaldas, 57, is a counter terrorism expert who has trained Iraqi police. He arrived in Australia aged 12 and fluent in English, French\n"
     ]
    }
   ],
   "execution_count": 38
  }
 ],
 "metadata": {
  "kernelspec": {
   "display_name": "Python 3",
   "language": "python",
   "name": "python3"
  },
  "language_info": {
   "codemirror_mode": {
    "name": "ipython",
    "version": 2
   },
   "file_extension": ".py",
   "mimetype": "text/x-python",
   "name": "python",
   "nbconvert_exporter": "python",
   "pygments_lexer": "ipython2",
   "version": "2.7.6"
  }
 },
 "nbformat": 4,
 "nbformat_minor": 5
}
